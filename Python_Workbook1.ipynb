{
 "cells": [
  {
   "cell_type": "code",
   "execution_count": 9,
   "source": [
    "feet = float(input('how many feet are you?'))\r\n",
    "inches = float(input('how many inches are you?'))\r\n",
    "\r\n",
    "to_inches = feet * 12\r\n",
    "inches = inches + to_inches\r\n",
    "centimeters = inches * 2.54\r\n",
    "print('you are ' , round(centimeters,2), \"centimeters tall\")"
   ],
   "outputs": [
    {
     "output_type": "stream",
     "name": "stdout",
     "text": [
      "you are  165.1 centimeters tall\n"
     ]
    }
   ],
   "metadata": {}
  },
  {
   "cell_type": "code",
   "execution_count": 19,
   "source": [
    "seconds=47653\r\n",
    "hours = seconds / 3600\r\n",
    "seconds = seconds % 3600\r\n",
    "minutes = seconds /60\r\n",
    "seconds = seconds % 60\r\n",
    "\r\n",
    "print ('hours:', int(hours), 'minutes:', int(minutes), 'seconds:', int(seconds))"
   ],
   "outputs": [
    {
     "output_type": "stream",
     "name": "stdout",
     "text": [
      "hours: 13 minutes: 14 seconds: 13\n"
     ]
    }
   ],
   "metadata": {}
  },
  {
   "cell_type": "code",
   "execution_count": null,
   "source": [],
   "outputs": [],
   "metadata": {}
  }
 ],
 "metadata": {
  "orig_nbformat": 4,
  "language_info": {
   "name": "python",
   "version": "3.8.12",
   "mimetype": "text/x-python",
   "codemirror_mode": {
    "name": "ipython",
    "version": 3
   },
   "pygments_lexer": "ipython3",
   "nbconvert_exporter": "python",
   "file_extension": ".py"
  },
  "kernelspec": {
   "name": "python3",
   "display_name": "Python 3.8.12 64-bit ('ml': conda)"
  },
  "interpreter": {
   "hash": "ff1e2c4a7e03eeb4e26e4d26d514da215ebf38dfce64ba6fdcc533779cdbe8b5"
  }
 },
 "nbformat": 4,
 "nbformat_minor": 2
}